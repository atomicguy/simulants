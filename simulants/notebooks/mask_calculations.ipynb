{
 "cells": [
  {
   "cell_type": "code",
   "execution_count": 3,
   "metadata": {
    "collapsed": true
   },
   "outputs": [],
   "source": [
    "%matplotlib inline\n",
    "\n",
    "import numpy as np\n",
    "import matplotlib.pyplot as plt\n",
    "\n",
    "from scipy import misc"
   ]
  },
  {
   "cell_type": "code",
   "execution_count": 24,
   "metadata": {},
   "outputs": [
    {
     "data": {
      "image/png": "[encoded data removed]",
      "text/plain": [
       "<matplotlib.figure.Figure at 0x10e23dcc0>"
      ]
     },
     "metadata": {},
     "output_type": "display_data"
    }
   ],
   "source": [
    "mask = misc.imread('mask2.png')\n",
    "plt.imshow(mask)\n",
    "plt.show()"
   ]
  },
  {
   "cell_type": "code",
   "execution_count": 32,
   "metadata": {},
   "outputs": [],
   "source": [
    "def histograms(mask):\n",
    "    \"\"\"\n",
    "    computes histogram of binaries images along y axis\n",
    "    (vertical downward) and x axis (horizontal forward)\n",
    "\n",
    "    returns a tuple of np.arrays (histo_y, histo_x)\n",
    "\n",
    "    \"\"\"\n",
    "\n",
    "    histogram_y = np.dot(mask, np.ones((mask.shape[1], 1)))\n",
    "    histogram_x = np.dot(mask.T, np.ones((mask.shape[0], 1)))\n",
    "\n",
    "    return (histogram_y, histogram_x)"
   ]
  },
  {
   "cell_type": "code",
   "execution_count": 33,
   "metadata": {},
   "outputs": [],
   "source": [
    "def min_max(one_dimensional_array):\n",
    "    \"\"\"\n",
    "    computes the coordinate of the first and last non null\n",
    "    element in a list or one dimmentional array\n",
    "\n",
    "    returns a tuple (x_min, x_max)\n",
    "\n",
    "    \"\"\"\n",
    "\n",
    "    x_min = 0\n",
    "    x_max = len(one_dimensional_array) - 1\n",
    "\n",
    "    done_min = False\n",
    "    done_max = False\n",
    "\n",
    "    count = 0\n",
    "\n",
    "    while(True):\n",
    "\n",
    "        if one_dimensional_array[x_min] == 0 and done_min == False and x_min < len(one_dimensional_array) - 1:\n",
    "            x_min += 1\n",
    "        else:\n",
    "            done_min = True\n",
    "        if one_dimensional_array[x_max] == 0 and done_max == False and x_max > 0:\n",
    "            x_max -= 1\n",
    "        else:\n",
    "            done_max = True\n",
    "        if done_min == True and done_max == True:\n",
    "            return (x_min, x_max)\n",
    "\n",
    "        count += 1\n",
    "\n",
    "        if count > 10000:\n",
    "            print(\"over 10000 null elements in list\")\n",
    "            return (x_min, x_max)\n",
    "\n",
    "        if x_min > x_max:\n",
    "            print(\"only null elements here\")\n",
    "            return (0, 0)"
   ]
  },
  {
   "cell_type": "code",
   "execution_count": 37,
   "metadata": {},
   "outputs": [],
   "source": [
    "histogram_y, histogram_x = histograms(mask)\n",
    "\n",
    "xmin, xmax = min_max(histogram_x)\n",
    "ymin, ymax = min_max(histogram_y)"
   ]
  },
  {
   "cell_type": "code",
   "execution_count": 38,
   "metadata": {},
   "outputs": [],
   "source": [
    "bbox_mask = mask[ymin:ymax, xmin:xmax]"
   ]
  },
  {
   "cell_type": "code",
   "execution_count": 39,
   "metadata": {},
   "outputs": [
    {
     "data": {
      "image/png": "[encoded data removed]",
      "text/plain": [
       "<matplotlib.figure.Figure at 0x10cdc4358>"
      ]
     },
     "metadata": {},
     "output_type": "display_data"
    }
   ],
   "source": [
    "plt.imshow(bbox_mask)\n",
    "plt.show()"
   ]
  }
 ],
 "metadata": {
  "kernelspec": {
   "display_name": "Python 3",
   "language": "python",
   "name": "python3"
  },
  "language_info": {
   "codemirror_mode": {
    "name": "ipython",
    "version": 3
   },
   "file_extension": ".py",
   "mimetype": "text/x-python",
   "name": "python",
   "nbconvert_exporter": "python",
   "pygments_lexer": "ipython3",
   "version": "3.6.4"
  }
 },
 "nbformat": 4,
 "nbformat_minor": 2
}
